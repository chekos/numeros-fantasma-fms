{
 "cells": [
  {
   "cell_type": "markdown",
   "metadata": {},
   "source": [
    "# numeros-fantasma-FMS\n",
    "#### En este proyecto exploraré el análisis de datos utilizando textos de la batalla entre Lobo Estepario y Skiper para la FMS. Estos datos vienen de [@jmtoralc](https://twitter.com/jmtoralc) - su repositorio se encuentra en <https://github.com/jmtoral/red_bull_mx>.\n",
    "\n",
    "<details>\n",
    "    <summary><strong>Meta</strong></summary>\n",
    "    La meta de este notebook es la exploración y la preparación de los datos de la batalla final de RedBull Batalla de los Gallos en México de Julio 2019 entre Lobo Estepario y Skiper.\n",
    "    <ul>\n",
    "        <li> Metas mensurables </li>\n",
    "        <li> 1: Identificar si la transliteración del texto agrega valor a los datos.</li>\n",
    "        <li> 2: Crear un <i>dataset trabajable</i> de los datos en bruto.</li>\n",
    "    </ul>\n",
    "</details>\n",
    "\n",
    "<details>\n",
    "    <summary><strong>Contexto</strong></summary>\n",
    "    Juan Manuel Toral aka [@jmtoralc](https://twitter.com/jmtoralc) creó un dataset con el texto de la ronda final de la batalla final de la FMS en México 2019 - Lobo Estepario vs Skiper.<br>\n",
    "    <li> Queremos explorar <pre>epitran</pre> como herramienta de transliteración. </li>\n",
    "    <li> Los datos se encuentran en https://github.com/jmtoral/red_bull_mx </li>\n",
    "</details>"
   ]
  },
  {
   "cell_type": "code",
   "execution_count": 1,
   "metadata": {},
   "outputs": [
    {
     "ename": "ModuleNotFoundError",
     "evalue": "No module named 'epitran'",
     "output_type": "error",
     "traceback": [
      "\u001b[1;31m---------------------------------------------------------------------------\u001b[0m",
      "\u001b[1;31mModuleNotFoundError\u001b[0m                       Traceback (most recent call last)",
      "\u001b[1;32m<ipython-input-1-8d430026be85>\u001b[0m in \u001b[0;36m<module>\u001b[1;34m\u001b[0m\n\u001b[0;32m      1\u001b[0m \u001b[1;32mimport\u001b[0m \u001b[0mpandas\u001b[0m \u001b[1;32mas\u001b[0m \u001b[0mpd\u001b[0m\u001b[1;33m\u001b[0m\u001b[1;33m\u001b[0m\u001b[0m\n\u001b[1;32m----> 2\u001b[1;33m \u001b[1;32mimport\u001b[0m \u001b[0mepitran\u001b[0m\u001b[1;33m\u001b[0m\u001b[1;33m\u001b[0m\u001b[0m\n\u001b[0m\u001b[0;32m      3\u001b[0m \u001b[1;32mfrom\u001b[0m \u001b[0mpathlib\u001b[0m \u001b[1;32mimport\u001b[0m \u001b[0mPath\u001b[0m\u001b[1;33m\u001b[0m\u001b[1;33m\u001b[0m\u001b[0m\n\u001b[0;32m      4\u001b[0m \u001b[1;33m\u001b[0m\u001b[0m\n\u001b[0;32m      5\u001b[0m \u001b[1;32mfrom\u001b[0m \u001b[0mherramientas\u001b[0m \u001b[1;32mimport\u001b[0m \u001b[0marbol\u001b[0m\u001b[1;33m\u001b[0m\u001b[1;33m\u001b[0m\u001b[0m\n",
      "\u001b[1;31mModuleNotFoundError\u001b[0m: No module named 'epitran'"
     ]
    }
   ],
   "source": [
    "import pandas as pd\n",
    "import epitran\n",
    "from pathlib import Path\n",
    "\n",
    "from herramientas import arbol\n",
    "import arrow\n",
    "hoy = arrow.now().format(\"DD-MMM-YY\", locale = \"es\")\n",
    "\n",
    "hoy"
   ]
  },
  {
   "cell_type": "code",
   "execution_count": null,
   "metadata": {},
   "outputs": [],
   "source": [
    "DATOS_BRUTOS = Path(\"../datos/brutos/\")\n",
    "DATOS_INTERINOS = Path(\"../datos/interinos/\")\n",
    "DATOS_PROCESADOS = Path(\"../datos/procesados/\")\n",
    "DATOS_EXTERNOS = Path(\"../datos/externos/\")"
   ]
  },
  {
   "cell_type": "code",
   "execution_count": null,
   "metadata": {},
   "outputs": [],
   "source": [
    "arbol(DATOS_BRUTOS)"
   ]
  },
  {
   "cell_type": "code",
   "execution_count": null,
   "metadata": {},
   "outputs": [],
   "source": [
    "data = pd.read_"
   ]
  },
  {
   "cell_type": "code",
   "execution_count": 2,
   "metadata": {},
   "outputs": [],
   "source": [
    "epi = epitran.Epitran(\"spa-Latn\")"
   ]
  },
  {
   "cell_type": "markdown",
   "metadata": {},
   "source": [
    "# Transliteración"
   ]
  },
  {
   "cell_type": "code",
   "execution_count": 3,
   "metadata": {},
   "outputs": [
    {
     "data": {
      "text/plain": [
       "'¡ke onda peros!'"
      ]
     },
     "execution_count": 3,
     "metadata": {},
     "output_type": "execute_result"
    }
   ],
   "source": [
    "epi.transliterate(\"¡Que onda perros!\")"
   ]
  },
  {
   "cell_type": "code",
   "execution_count": 4,
   "metadata": {},
   "outputs": [
    {
     "data": {
      "text/plain": [
       "'pelo'"
      ]
     },
     "execution_count": 4,
     "metadata": {},
     "output_type": "execute_result"
    }
   ],
   "source": [
    "epi.transliterate(\"pelo\")"
   ]
  },
  {
   "cell_type": "markdown",
   "metadata": {},
   "source": [
    "# Base de datos\n",
    "por [@jmtoralc](https://twitter.com/jmtoralc)"
   ]
  },
  {
   "cell_type": "code",
   "execution_count": 9,
   "metadata": {},
   "outputs": [],
   "source": [
    "datos = pd.read_csv(\"https://raw.githubusercontent.com/jmtoral/red_bull_mx/master/final_le_sk_rbmex19.csv\", encoding = 'latin-1')"
   ]
  },
  {
   "cell_type": "code",
   "execution_count": 10,
   "metadata": {},
   "outputs": [
    {
     "data": {
      "text/html": [
       "<div>\n",
       "<style scoped>\n",
       "    .dataframe tbody tr th:only-of-type {\n",
       "        vertical-align: middle;\n",
       "    }\n",
       "\n",
       "    .dataframe tbody tr th {\n",
       "        vertical-align: top;\n",
       "    }\n",
       "\n",
       "    .dataframe thead th {\n",
       "        text-align: right;\n",
       "    }\n",
       "</style>\n",
       "<table border=\"1\" class=\"dataframe\">\n",
       "  <thead>\n",
       "    <tr style=\"text-align: right;\">\n",
       "      <th></th>\n",
       "      <th>etapa</th>\n",
       "      <th>parte</th>\n",
       "      <th>mc</th>\n",
       "      <th>estrofa</th>\n",
       "      <th>verso</th>\n",
       "      <th>contenido</th>\n",
       "    </tr>\n",
       "  </thead>\n",
       "  <tbody>\n",
       "    <tr>\n",
       "      <td>0</td>\n",
       "      <td>Final</td>\n",
       "      <td>minuto temática</td>\n",
       "      <td>lobo estepario</td>\n",
       "      <td>1</td>\n",
       "      <td>1</td>\n",
       "      <td>hoy improviso en esta ocasión te juro que aquí...</td>\n",
       "    </tr>\n",
       "    <tr>\n",
       "      <td>1</td>\n",
       "      <td>Final</td>\n",
       "      <td>minuto temática</td>\n",
       "      <td>lobo estepario</td>\n",
       "      <td>1</td>\n",
       "      <td>2</td>\n",
       "      <td>que tengo versos tan buenos te juro que aquí t...</td>\n",
       "    </tr>\n",
       "    <tr>\n",
       "      <td>2</td>\n",
       "      <td>Final</td>\n",
       "      <td>minuto temática</td>\n",
       "      <td>lobo estepario</td>\n",
       "      <td>1</td>\n",
       "      <td>3</td>\n",
       "      <td>no puedes decir que tú eres las redes sociales</td>\n",
       "    </tr>\n",
       "    <tr>\n",
       "      <td>3</td>\n",
       "      <td>Final</td>\n",
       "      <td>minuto temática</td>\n",
       "      <td>lobo estepario</td>\n",
       "      <td>1</td>\n",
       "      <td>4</td>\n",
       "      <td>porque el día de hoy te caes al igual que toda...</td>\n",
       "    </tr>\n",
       "    <tr>\n",
       "      <td>4</td>\n",
       "      <td>Final</td>\n",
       "      <td>minuto temática</td>\n",
       "      <td>lobo estepario</td>\n",
       "      <td>2</td>\n",
       "      <td>1</td>\n",
       "      <td>quieres hacerlo como yo cabrón</td>\n",
       "    </tr>\n",
       "  </tbody>\n",
       "</table>\n",
       "</div>"
      ],
      "text/plain": [
       "   etapa            parte              mc  estrofa  verso  \\\n",
       "0  Final  minuto temática  lobo estepario        1      1   \n",
       "1  Final  minuto temática  lobo estepario        1      2   \n",
       "2  Final  minuto temática  lobo estepario        1      3   \n",
       "3  Final  minuto temática  lobo estepario        1      4   \n",
       "4  Final  minuto temática  lobo estepario        2      1   \n",
       "\n",
       "                                           contenido  \n",
       "0  hoy improviso en esta ocasión te juro que aquí...  \n",
       "1  que tengo versos tan buenos te juro que aquí t...  \n",
       "2     no puedes decir que tú eres las redes sociales  \n",
       "3  porque el día de hoy te caes al igual que toda...  \n",
       "4                    quieres hacerlo como yo cabrón   "
      ]
     },
     "execution_count": 10,
     "metadata": {},
     "output_type": "execute_result"
    }
   ],
   "source": [
    "datos.head()"
   ]
  },
  {
   "cell_type": "code",
   "execution_count": 11,
   "metadata": {},
   "outputs": [
    {
     "data": {
      "text/plain": [
       "(226, 6)"
      ]
     },
     "execution_count": 11,
     "metadata": {},
     "output_type": "execute_result"
    }
   ],
   "source": [
    "datos.shape"
   ]
  },
  {
   "cell_type": "code",
   "execution_count": 12,
   "metadata": {},
   "outputs": [],
   "source": [
    "def transliteracion_de_barras(serie):\n",
    "    \"\"\"\n",
    "    Recibe una Series de pandas y translitera su contenido.\n",
    "    \"\"\"\n",
    "    texto_transliterado = epi.transliterate(serie)\n",
    "    return texto_transliterado"
   ]
  },
  {
   "cell_type": "code",
   "execution_count": 14,
   "metadata": {},
   "outputs": [],
   "source": [
    "datos['transliteracion'] = datos['contenido'].apply(transliteracion_de_barras)"
   ]
  },
  {
   "cell_type": "code",
   "execution_count": 15,
   "metadata": {},
   "outputs": [
    {
     "data": {
      "text/html": [
       "<div>\n",
       "<style scoped>\n",
       "    .dataframe tbody tr th:only-of-type {\n",
       "        vertical-align: middle;\n",
       "    }\n",
       "\n",
       "    .dataframe tbody tr th {\n",
       "        vertical-align: top;\n",
       "    }\n",
       "\n",
       "    .dataframe thead th {\n",
       "        text-align: right;\n",
       "    }\n",
       "</style>\n",
       "<table border=\"1\" class=\"dataframe\">\n",
       "  <thead>\n",
       "    <tr style=\"text-align: right;\">\n",
       "      <th></th>\n",
       "      <th>etapa</th>\n",
       "      <th>parte</th>\n",
       "      <th>mc</th>\n",
       "      <th>estrofa</th>\n",
       "      <th>verso</th>\n",
       "      <th>contenido</th>\n",
       "      <th>transliteracion</th>\n",
       "    </tr>\n",
       "  </thead>\n",
       "  <tbody>\n",
       "    <tr>\n",
       "      <td>0</td>\n",
       "      <td>Final</td>\n",
       "      <td>minuto temática</td>\n",
       "      <td>lobo estepario</td>\n",
       "      <td>1</td>\n",
       "      <td>1</td>\n",
       "      <td>hoy improviso en esta ocasión te juro que aquí...</td>\n",
       "      <td>oi impɾobiso en esta okasjon te xuɾo ke aki ia...</td>\n",
       "    </tr>\n",
       "    <tr>\n",
       "      <td>1</td>\n",
       "      <td>Final</td>\n",
       "      <td>minuto temática</td>\n",
       "      <td>lobo estepario</td>\n",
       "      <td>1</td>\n",
       "      <td>2</td>\n",
       "      <td>que tengo versos tan buenos te juro que aquí t...</td>\n",
       "      <td>ke tenɡo beɾsos tan bwenos te xuɾo ke aki te m...</td>\n",
       "    </tr>\n",
       "    <tr>\n",
       "      <td>2</td>\n",
       "      <td>Final</td>\n",
       "      <td>minuto temática</td>\n",
       "      <td>lobo estepario</td>\n",
       "      <td>1</td>\n",
       "      <td>3</td>\n",
       "      <td>no puedes decir que tú eres las redes sociales</td>\n",
       "      <td>no pwedes desiɾ ke tu eɾes las ɾedes sosiales</td>\n",
       "    </tr>\n",
       "    <tr>\n",
       "      <td>3</td>\n",
       "      <td>Final</td>\n",
       "      <td>minuto temática</td>\n",
       "      <td>lobo estepario</td>\n",
       "      <td>1</td>\n",
       "      <td>4</td>\n",
       "      <td>porque el día de hoy te caes al igual que toda...</td>\n",
       "      <td>poɾke el dja de oi te kaes al iɡwal ke todas t...</td>\n",
       "    </tr>\n",
       "    <tr>\n",
       "      <td>4</td>\n",
       "      <td>Final</td>\n",
       "      <td>minuto temática</td>\n",
       "      <td>lobo estepario</td>\n",
       "      <td>2</td>\n",
       "      <td>1</td>\n",
       "      <td>quieres hacerlo como yo cabrón</td>\n",
       "      <td>kjeɾes aseɾlo komo io kabɾon</td>\n",
       "    </tr>\n",
       "  </tbody>\n",
       "</table>\n",
       "</div>"
      ],
      "text/plain": [
       "   etapa            parte              mc  estrofa  verso  \\\n",
       "0  Final  minuto temática  lobo estepario        1      1   \n",
       "1  Final  minuto temática  lobo estepario        1      2   \n",
       "2  Final  minuto temática  lobo estepario        1      3   \n",
       "3  Final  minuto temática  lobo estepario        1      4   \n",
       "4  Final  minuto temática  lobo estepario        2      1   \n",
       "\n",
       "                                           contenido  \\\n",
       "0  hoy improviso en esta ocasión te juro que aquí...   \n",
       "1  que tengo versos tan buenos te juro que aquí t...   \n",
       "2     no puedes decir que tú eres las redes sociales   \n",
       "3  porque el día de hoy te caes al igual que toda...   \n",
       "4                    quieres hacerlo como yo cabrón    \n",
       "\n",
       "                                     transliteracion  \n",
       "0  oi impɾobiso en esta okasjon te xuɾo ke aki ia...  \n",
       "1  ke tenɡo beɾsos tan bwenos te xuɾo ke aki te m...  \n",
       "2      no pwedes desiɾ ke tu eɾes las ɾedes sosiales  \n",
       "3  poɾke el dja de oi te kaes al iɡwal ke todas t...  \n",
       "4                      kjeɾes aseɾlo komo io kabɾon   "
      ]
     },
     "execution_count": 15,
     "metadata": {},
     "output_type": "execute_result"
    }
   ],
   "source": [
    "datos.head()"
   ]
  },
  {
   "cell_type": "code",
   "execution_count": 19,
   "metadata": {},
   "outputs": [
    {
     "data": {
      "text/plain": [
       "etapa                                                     Final\n",
       "parte                                           minuto temática\n",
       "mc                                               lobo estepario\n",
       "estrofa                                                       4\n",
       "verso                                                         4\n",
       "contenido           y tú qué mierda serías sin el puto internet\n",
       "transliteracion      i tu ke mjeɾda seɾjas sin el puto inteɾnet\n",
       "Name: 15, dtype: object"
      ]
     },
     "execution_count": 19,
     "metadata": {},
     "output_type": "execute_result"
    }
   ],
   "source": [
    "datos.iloc[15]"
   ]
  }
 ],
 "metadata": {
  "kernelspec": {
   "display_name": "Python 3",
   "language": "python",
   "name": "python3"
  },
  "language_info": {
   "codemirror_mode": {
    "name": "ipython",
    "version": 3
   },
   "file_extension": ".py",
   "mimetype": "text/x-python",
   "name": "python",
   "nbconvert_exporter": "python",
   "pygments_lexer": "ipython3",
   "version": "3.6.7"
  }
 },
 "nbformat": 4,
 "nbformat_minor": 4
}
